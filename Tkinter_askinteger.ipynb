{
 "cells": [
  {
   "cell_type": "code",
   "execution_count": 7,
   "id": "1d278093-cec0-49c7-9591-60a6cc97ff53",
   "metadata": {},
   "outputs": [
    {
     "data": {
      "text/plain": [
       "''"
      ]
     },
     "execution_count": 7,
     "metadata": {},
     "output_type": "execute_result"
    }
   ],
   "source": [
    "from tkinter import *\n",
    "from tkinter.simpledialog import *\n",
    "\n",
    "window = Tk()\n",
    "window.geometry(\"400x100\")"
   ]
  },
  {
   "cell_type": "code",
   "execution_count": 8,
   "id": "2cf71d3c-71f3-4397-9726-b0195c682cd1",
   "metadata": {},
   "outputs": [],
   "source": [
    "label1 = Label(window, text=\"입력된 값\")\n",
    "label1.pack()"
   ]
  },
  {
   "cell_type": "code",
   "execution_count": 9,
   "id": "89a09de0-ad56-417f-829d-cd94db0cefb9",
   "metadata": {},
   "outputs": [],
   "source": [
    "value = askinteger(\"확대배수\", \"주사위 숫자 입력\", minvalue=1, maxvalue=6)\n",
    "label1.configure(text=str(value))"
   ]
  },
  {
   "cell_type": "code",
   "execution_count": 10,
   "id": "38078139-6fdd-41df-addd-b69374942221",
   "metadata": {},
   "outputs": [],
   "source": [
    "window.mainloop()"
   ]
  }
 ],
 "metadata": {
  "kernelspec": {
   "display_name": "Python 3 (ipykernel)",
   "language": "python",
   "name": "python3"
  },
  "language_info": {
   "codemirror_mode": {
    "name": "ipython",
    "version": 3
   },
   "file_extension": ".py",
   "mimetype": "text/x-python",
   "name": "python",
   "nbconvert_exporter": "python",
   "pygments_lexer": "ipython3",
   "version": "3.11.4"
  }
 },
 "nbformat": 4,
 "nbformat_minor": 5
}
