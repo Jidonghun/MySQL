{
 "cells": [
  {
   "cell_type": "code",
   "execution_count": 20,
   "id": "c9ff71a1-980f-41a4-86b2-2d0f2433e3d3",
   "metadata": {},
   "outputs": [],
   "source": [
    "from tkinter import *"
   ]
  },
  {
   "cell_type": "code",
   "execution_count": 21,
   "id": "7ece3329-735d-4366-b73e-89daf10d086f",
   "metadata": {},
   "outputs": [
    {
     "data": {
      "text/plain": [
       "''"
      ]
     },
     "execution_count": 21,
     "metadata": {},
     "output_type": "execute_result"
    }
   ],
   "source": [
    "window = Tk()\n",
    "window.geometry(\"200x200\")"
   ]
  },
  {
   "cell_type": "code",
   "execution_count": 22,
   "id": "255662fe-6679-4ed6-a863-2feca4ef2c77",
   "metadata": {},
   "outputs": [],
   "source": [
    "upFrame = Frame(window)\n",
    "upFrame.pack()\n",
    "downFrame = Frame(window)\n",
    "downFrame.pack()"
   ]
  },
  {
   "cell_type": "code",
   "execution_count": 23,
   "id": "af35191b-33cf-41cd-83a5-eb911838f1ec",
   "metadata": {},
   "outputs": [],
   "source": [
    "editBox = Entry(upFrame, width=10, bg='green')\n",
    "editBox.pack(padx=10, pady=10)\n",
    "\n",
    "listBox = Listbox(downFrame, bg=\"yellow\")\n",
    "listBox.pack()\n",
    "\n",
    "listBox.insert(END, \"하나\")\n",
    "listBox.insert(END, \"둘\")"
   ]
  },
  {
   "cell_type": "code",
   "execution_count": 24,
   "id": "1992809e-5e32-42bb-9c8d-6dceb168f4c7",
   "metadata": {},
   "outputs": [],
   "source": [
    "window.mainloop()"
   ]
  }
 ],
 "metadata": {
  "kernelspec": {
   "display_name": "Python 3 (ipykernel)",
   "language": "python",
   "name": "python3"
  },
  "language_info": {
   "codemirror_mode": {
    "name": "ipython",
    "version": 3
   },
   "file_extension": ".py",
   "mimetype": "text/x-python",
   "name": "python",
   "nbconvert_exporter": "python",
   "pygments_lexer": "ipython3",
   "version": "3.11.4"
  }
 },
 "nbformat": 4,
 "nbformat_minor": 5
}
