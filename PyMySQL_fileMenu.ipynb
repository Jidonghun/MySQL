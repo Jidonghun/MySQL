{
 "cells": [
  {
   "cell_type": "code",
   "execution_count": 1,
   "id": "f96e8404-fb77-44f2-a984-1ea3a1ae71d7",
   "metadata": {},
   "outputs": [],
   "source": [
    "from tkinter import *\n",
    "from tkinter import messagebox\n",
    "\n",
    "window = Tk()"
   ]
  },
  {
   "cell_type": "code",
   "execution_count": 2,
   "id": "b5a47cc8-4125-497d-9f67-4bdb0973a6ca",
   "metadata": {},
   "outputs": [],
   "source": [
    "def func_open():\n",
    "    messagebox.showinfo(\"메뉴선택, 열기메뉴 선택\")"
   ]
  },
  {
   "cell_type": "code",
   "execution_count": 3,
   "id": "91543a07-4fc7-418b-9447-3921c9da561e",
   "metadata": {},
   "outputs": [],
   "source": [
    "def func_exit():\n",
    "    window.quit()\n",
    "    window.destroy()"
   ]
  },
  {
   "cell_type": "code",
   "execution_count": 4,
   "id": "d87bd33a-069b-434d-ab33-33096f020bbd",
   "metadata": {},
   "outputs": [],
   "source": [
    "mainMenu = Menu(window)\n",
    "window.config(menu=mainMenu)\n",
    "\n",
    "fileMenu = Menu(mainMenu)\n",
    "mainMenu.add_cascade(labe=\"파일\", menu=fileMenu)\n",
    "fileMenu.add_command(label=\"열기\", command=func_open)\n",
    "fileMenu.add_separator()\n",
    "fileMenu.add_command(label=\"종료\", command=func_exit)"
   ]
  },
  {
   "cell_type": "code",
   "execution_count": 5,
   "id": "a09ed2c5-bbe5-4917-a9c7-e4525556a211",
   "metadata": {},
   "outputs": [],
   "source": [
    "window.mainloop()"
   ]
  }
 ],
 "metadata": {
  "kernelspec": {
   "display_name": "Python 3 (ipykernel)",
   "language": "python",
   "name": "python3"
  },
  "language_info": {
   "codemirror_mode": {
    "name": "ipython",
    "version": 3
   },
   "file_extension": ".py",
   "mimetype": "text/x-python",
   "name": "python",
   "nbconvert_exporter": "python",
   "pygments_lexer": "ipython3",
   "version": "3.11.4"
  }
 },
 "nbformat": 4,
 "nbformat_minor": 5
}
