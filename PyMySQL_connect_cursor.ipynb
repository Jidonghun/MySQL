{
 "cells": [
  {
   "cell_type": "code",
   "execution_count": 1,
   "id": "caf57224-c87a-4e68-97d9-b1192ac1d1f0",
   "metadata": {},
   "outputs": [],
   "source": [
    "import pymysql\n",
    "\n",
    "conn = pymysql.connect(host='127.0.0.1', user='root', password='1234', db='hanbitDB', charset='utf8')"
   ]
  },
  {
   "cell_type": "code",
   "execution_count": 2,
   "id": "9fb20084-9189-44c9-818f-49ba8b7490a3",
   "metadata": {},
   "outputs": [],
   "source": [
    "cur = conn.cursor()"
   ]
  },
  {
   "cell_type": "code",
   "execution_count": 3,
   "id": "9c969886-f5da-4471-b71d-b1cc1cedbae4",
   "metadata": {},
   "outputs": [
    {
     "data": {
      "text/plain": [
       "1"
      ]
     },
     "execution_count": 3,
     "metadata": {},
     "output_type": "execute_result"
    }
   ],
   "source": [
    "cur.execute(\"CREATE TABLE IF NOT EXISTS userTable (id char(4), userName char(15), email char(20), birthYear int)\")\n",
    "\n",
    "cur.execute(\"INSERT INTO userTable VALUES('john', 'John Bann', 'john@naver.com', 1990)\")\n",
    "cur.execute(\"INSERT INTO userTable VALUES('kim', 'kim chi', 'kim@daum.net', 1992)\")\n",
    "cur.execute(\"INSERT INTO userTable VALUES('lee', 'Lee Pal', 'lee@paran.com', 1988)\")\n",
    "cur.execute(\"INSERT INTO userTable VALUES('park', 'Park Su', 'park@gmail.com', 1980)\")"
   ]
  },
  {
   "cell_type": "code",
   "execution_count": 4,
   "id": "04078576-cd99-452e-a7c2-f25650048cad",
   "metadata": {},
   "outputs": [],
   "source": [
    "conn.commit()"
   ]
  },
  {
   "cell_type": "code",
   "execution_count": 5,
   "id": "67d643c8-a6a6-4027-9ca4-d89ee38d4410",
   "metadata": {},
   "outputs": [],
   "source": [
    "conn.close()"
   ]
  },
  {
   "cell_type": "code",
   "execution_count": null,
   "id": "905dae5b-c8a4-43ae-a835-d5730c4f90da",
   "metadata": {},
   "outputs": [],
   "source": []
  }
 ],
 "metadata": {
  "kernelspec": {
   "display_name": "Python 3 (ipykernel)",
   "language": "python",
   "name": "python3"
  },
  "language_info": {
   "codemirror_mode": {
    "name": "ipython",
    "version": 3
   },
   "file_extension": ".py",
   "mimetype": "text/x-python",
   "name": "python",
   "nbconvert_exporter": "python",
   "pygments_lexer": "ipython3",
   "version": "3.11.4"
  }
 },
 "nbformat": 4,
 "nbformat_minor": 5
}
