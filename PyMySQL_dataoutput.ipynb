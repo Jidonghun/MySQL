{
 "cells": [
  {
   "cell_type": "code",
   "execution_count": 4,
   "id": "6790307e-1a4b-44ca-819a-66bc064ab7b1",
   "metadata": {},
   "outputs": [
    {
     "name": "stdout",
     "output_type": "stream",
     "text": [
      "사용자ID       사용자이름       이메일      출생연도\n",
      "----------------------------------------------------\n",
      " john         John Bann    john@naver.com   1990\n",
      "  kim           kim chi      kim@daum.net   1992\n",
      "  lee           Lee Pal     lee@paran.com   1988\n",
      " park           Park Su    park@gmail.com   1980\n",
      "   JI               지동훈      ji@naver.com   1999\n"
     ]
    }
   ],
   "source": [
    "import pymysql\n",
    "\n",
    "# 전역변수 선언부\n",
    "con, cur = None, None\n",
    "data1, data2, data3, data4 = \"\", \"\", \"\", \"\"\n",
    "row=None\n",
    "\n",
    "# 메인 코드\n",
    "conn = pymysql.connect(host='127.0.0.1', user='root', password='1234', db='hanbitDB', charset='utf8')\n",
    "cur = conn.cursor()\n",
    "\n",
    "cur.execute(\"SELECT * FROM userTable\")\n",
    "\n",
    "print(\"사용자ID       사용자이름       이메일      출생연도\")\n",
    "print(\"----------------------------------------------------\")\n",
    "\n",
    "while (True) :\n",
    "    row = cur.fetchone()\n",
    "    if row== None :\n",
    "        break\n",
    "    data1 = row[0]\n",
    "    data2 = row[1]\n",
    "    data3 = row[2]\n",
    "    data4 = row[3]\n",
    "    print(\"%5s   %15s   %15s   %d\" % (data1, data2, data3, data4))\n",
    "\n",
    "conn.close()\n"
   ]
  },
  {
   "cell_type": "code",
   "execution_count": null,
   "id": "fc84d50d-4217-44ba-9a9a-a78bcda3fd1e",
   "metadata": {},
   "outputs": [],
   "source": []
  }
 ],
 "metadata": {
  "kernelspec": {
   "display_name": "Python 3 (ipykernel)",
   "language": "python",
   "name": "python3"
  },
  "language_info": {
   "codemirror_mode": {
    "name": "ipython",
    "version": 3
   },
   "file_extension": ".py",
   "mimetype": "text/x-python",
   "name": "python",
   "nbconvert_exporter": "python",
   "pygments_lexer": "ipython3",
   "version": "3.11.4"
  }
 },
 "nbformat": 4,
 "nbformat_minor": 5
}
