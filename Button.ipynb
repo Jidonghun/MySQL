{
 "cells": [
  {
   "cell_type": "code",
   "execution_count": 39,
   "id": "2308bf61-3310-47d3-a218-e40a14d5bc96",
   "metadata": {},
   "outputs": [],
   "source": [
    "from tkinter import *\n",
    "from tkinter import messagebox"
   ]
  },
  {
   "cell_type": "code",
   "execution_count": 40,
   "id": "c97e6a19-4ed8-4722-9e7d-984961cfbfbd",
   "metadata": {},
   "outputs": [],
   "source": [
    "window = Tk()\n",
    "\n",
    "window.title('윈도우 창연습')\n",
    "window.geometry(\"300x300\")\n",
    "window.resizable(width=TRUE, height=TRUE)\n",
    "\n",
    "label1=Label(window, text=\"This is MySQL\")\n",
    "label2=Label(window, text=\"열심히\", font=(\"궁서체\",30), fg=\"blue\")\n",
    "label3=Label(window, text=\"공부중\",width=20, height=5,bg=\"magenta\", anchor=SE)\n",
    "\n",
    "label1.pack()\n",
    "label2.pack()\n",
    "label3.pack()"
   ]
  },
  {
   "cell_type": "code",
   "execution_count": 41,
   "id": "1525b8d0-fa7b-4b1b-99ce-ed7832944bf7",
   "metadata": {
    "scrolled": true
   },
   "outputs": [],
   "source": [
    "def clickButton():\n",
    "    messagebox.showinfo('버튼 클릭', '버튼 클릭했다')\n",
    "\n",
    "# button1 = Button(window, text=\"여기 누르기\", fg=\"red\", bg=\"yellow\", command=clickButton)"
   ]
  },
  {
   "cell_type": "code",
   "execution_count": 42,
   "id": "5754c4bb-298d-48d3-80c1-0281f0dd44f7",
   "metadata": {},
   "outputs": [],
   "source": [
    "button1=Button(window, text=\"버1\", fg=\"red\", bg=\"yellow\",command=clickButton)\n",
    "button2=Button(window, text=\"버2\", fg=\"red\", bg=\"yellow\",command=clickButton)\n",
    "button3=Button(window, text=\"버3\", fg=\"red\", bg=\"yellow\",command=clickButton)\n",
    "\n",
    "button1.pack(side=LEFT)\n",
    "button2.pack(side=LEFT)\n",
    "button3.pack(side=LEFT)"
   ]
  },
  {
   "cell_type": "code",
   "execution_count": 43,
   "id": "25898135-2796-41e4-825f-e87ffa6674d2",
   "metadata": {},
   "outputs": [],
   "source": [
    "btnList=[None]*3\n",
    "for i in range(0,3):\n",
    "    btnList[i] = Button(window, text=\"FOR 버튼\"+str(i+1))\n",
    "\n",
    "for btn in btnList:\n",
    "    btn.pack(side=LEFT, padx=10, pady=10)"
   ]
  },
  {
   "cell_type": "code",
   "execution_count": 44,
   "id": "92e7fb83-2cdb-41d8-aa65-ab5a497f9bdb",
   "metadata": {},
   "outputs": [],
   "source": [
    "window.mainloop()"
   ]
  }
 ],
 "metadata": {
  "kernelspec": {
   "display_name": "Python 3 (ipykernel)",
   "language": "python",
   "name": "python3"
  },
  "language_info": {
   "codemirror_mode": {
    "name": "ipython",
    "version": 3
   },
   "file_extension": ".py",
   "mimetype": "text/x-python",
   "name": "python",
   "nbconvert_exporter": "python",
   "pygments_lexer": "ipython3",
   "version": "3.11.4"
  }
 },
 "nbformat": 4,
 "nbformat_minor": 5
}
