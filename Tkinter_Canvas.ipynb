{
 "cells": [
  {
   "cell_type": "code",
   "execution_count": 3,
   "id": "1d47703b-17ed-4361-ba28-1e8278a2e968",
   "metadata": {},
   "outputs": [],
   "source": [
    "from tkinter import *\n",
    "from tkinter.simpledialog import *\n",
    "\n",
    "window = Tk()"
   ]
  },
  {
   "cell_type": "code",
   "execution_count": 4,
   "id": "b1d96265-8164-4f28-aef1-6a7c7248d270",
   "metadata": {},
   "outputs": [
    {
     "data": {
      "text/plain": [
       "3"
      ]
     },
     "execution_count": 4,
     "metadata": {},
     "output_type": "execute_result"
    }
   ],
   "source": [
    "canvas = Canvas(window, height=300, width=300)\n",
    "canvas.pack()\n",
    "\n",
    "canvas.create_line([[0,0], [70,70], [30,170]], fill=\"blue\", width=3)\n",
    "canvas.create_polygon([[100,100], [100,150], [150,150], [150,100]], fill=\"red\")\n",
    "canvas.create_text([200,200], text=\"이것이 MySQL이다.\", font=(\"굴림\",15))"
   ]
  },
  {
   "cell_type": "code",
   "execution_count": 5,
   "id": "42e00f61-e09a-4d2d-9129-e4edcfaefac6",
   "metadata": {},
   "outputs": [],
   "source": [
    "window.mainloop()"
   ]
  },
  {
   "cell_type": "code",
   "execution_count": null,
   "id": "f60b8054-4e3c-47f6-baa3-c3fa1feacf65",
   "metadata": {},
   "outputs": [],
   "source": []
  }
 ],
 "metadata": {
  "kernelspec": {
   "display_name": "Python 3 (ipykernel)",
   "language": "python",
   "name": "python3"
  },
  "language_info": {
   "codemirror_mode": {
    "name": "ipython",
    "version": 3
   },
   "file_extension": ".py",
   "mimetype": "text/x-python",
   "name": "python",
   "nbconvert_exporter": "python",
   "pygments_lexer": "ipython3",
   "version": "3.11.4"
  }
 },
 "nbformat": 4,
 "nbformat_minor": 5
}
