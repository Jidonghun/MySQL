{
 "cells": [
  {
   "cell_type": "code",
   "execution_count": 1,
   "id": "d137ae22-ffc4-470b-834b-2ea0dac21cf8",
   "metadata": {},
   "outputs": [
    {
     "name": "stdin",
     "output_type": "stream",
     "text": [
      "사용자 ID ==>  JI\n",
      "사용자 이름 ==>  지동훈\n",
      "사용자 이메일 ==>  ji@naver.com\n",
      "사용자 출생연도 ==>  1999\n",
      "사용자 ID ==>  \n"
     ]
    }
   ],
   "source": [
    "import pymysql\n",
    "\n",
    "# 전역변수 선언부\n",
    "conn, cur = None, None\n",
    "data1, data2, data3, data4 = \"\", \"\", \"\", \"\"\n",
    "sql=\"\"\n",
    "\n",
    "# 메인 코드\n",
    "conn = pymysql.connect(host='127.0.0.1', user='root', password='1234', db='hanbitDB', charset='utf8')\n",
    "cur = conn.cursor()\n",
    "\n",
    "while (True) :\n",
    "    data1 = input(\"사용자 ID ==> \")\n",
    "    if data1 == \"\" :\n",
    "        break;\n",
    "    data2 = input(\"사용자 이름 ==> \")\n",
    "    data3 = input(\"사용자 이메일 ==> \")\n",
    "    data4 = input(\"사용자 출생연도 ==> \")\n",
    "    sql = \"INSERT INTO userTable VALUES('\" + data1 + \"','\" + data2 + \"','\" + data3 + \"',\" + data4 + \")\"\n",
    "    cur.execute(sql)\n",
    "\n",
    "conn.commit()\n",
    "conn.close()\n"
   ]
  }
 ],
 "metadata": {
  "kernelspec": {
   "display_name": "Python 3 (ipykernel)",
   "language": "python",
   "name": "python3"
  },
  "language_info": {
   "codemirror_mode": {
    "name": "ipython",
    "version": 3
   },
   "file_extension": ".py",
   "mimetype": "text/x-python",
   "name": "python",
   "nbconvert_exporter": "python",
   "pygments_lexer": "ipython3",
   "version": "3.11.4"
  }
 },
 "nbformat": 4,
 "nbformat_minor": 5
}
